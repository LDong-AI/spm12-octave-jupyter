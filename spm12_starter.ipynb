{
 "cells": [
  {
   "cell_type": "code",
   "execution_count": null,
   "metadata": {},
   "outputs": [],
   "source": [
    "%-Welcome\n",
    "spm('asciiwelcome');\n",
    "% [vspm,rspm] = spm('Ver');\n",
    "% tlkt = ver(spm_check_version);\n",
    "% fprintf('%s, version %s\\n',vspm,rspm);\n",
    "% fprintf('%s, version %s\\n',tlkt.Name,version);"
   ]
  },
  {
   "cell_type": "code",
   "execution_count": null,
   "metadata": {},
   "outputs": [],
   "source": [
    "%-Working directory\n",
    "wd = fullfile(getenv('HOME'),'ds000256-download');"
   ]
  },
  {
   "cell_type": "code",
   "execution_count": 12,
   "metadata": {},
   "outputs": [],
   "source": [
    "%-Input data\n",
    "sub = 'CTS200';\n",
    "task = 'restbaseline';\n",
    "restgz = fullfile(wd, ['sub-' sub], 'func', ['sub-' sub '_task-' task '_bold.nii.gz']);\n",
    "if exist(restgz, 'file')\n",
    "    out_fns = gunzip(restgz);\n",
    "    rest_fn = out_fns{1};\n",
    "else\n",
    "    rest_fn = strrep(restgz, '.gz', '');\n",
    "end\n",
    "anatgz = fullfile(wd, ['sub-' sub], 'anat', ['sub-' sub '_T1w.nii.gz']);\n",
    "if exist(anatgz, 'file')\n",
    "    out_fns = gunzip(anatgz);\n",
    "    anat_fn = out_fns{1};\n",
    "else\n",
    "    anat_fn = strrep(anatgz, '.gz', '');\n",
    "end"
   ]
  },
  {
   "cell_type": "code",
   "execution_count": 13,
   "metadata": {},
   "outputs": [
    {
     "name": "stdout",
     "output_type": "stream",
     "text": [
      "Available line magics:\n",
      "%activity  %cd  %connect_info  %conversation  %dot  %download  %edit  %get  %help  %html  %include  %install  %install_magic  %javascript  %jigsaw  %kernel  %kx  %latex  %load  %ls  %lsmagic  %macro  %magic  %matplotlib  %parallel  %plot  %pmap  %px  %python  %reload_magics  %restart  %run  %scheme  %set  %shell\n",
      "\n",
      "Available cell magics:\n",
      "%%activity  %%brain  %%conversation  %%debug  %%dot  %%file  %%help  %%html  %%javascript  %%kx  %%latex  %%macro  %%pipe  %%processing  %%px  %%python  %%scheme  %%shell  %%show  %%time  %%tutor\n"
     ]
    }
   ],
   "source": [
    "func_4Dimg = spm_read_vols(spm_vol(rest_fn));\n",
    "\n",
    "[Ni, Nj, Nk, Nt] = size(func_4Dimg);\n",
    "figure;\n",
    "subplot(131); imagesc(squeeze(func_4Dimg(round(Ni/2),:,:,1))); colormap gray; colorbar;\n",
    "subplot(132); imagesc(squeeze(func_4Dimg(:,round(Nj/2),:,1))); colormap gray; colorbar;\n",
    "subplot(133); imagesc(squeeze(func_4Dimg(:,:,round(Nk/2),1))); colormap gray; colorbar;"
   ]
  },
  {
   "cell_type": "code",
   "execution_count": null,
   "metadata": {
    "pycharm": {
     "name": "#%%\n"
    }
   },
   "outputs": [],
   "source": []
  }
 ],
 "metadata": {
  "kernelspec": {
   "display_name": "Octave",
   "language": "octave",
   "name": "octave"
  },
  "pycharm": {
   "stem_cell": {
    "cell_type": "raw",
    "source": [],
    "metadata": {
     "collapsed": false
    }
   }
  }
 },
 "nbformat": 4,
 "nbformat_minor": 4
}